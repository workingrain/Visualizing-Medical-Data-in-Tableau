{
 "cells": [
  {
   "cell_type": "code",
   "execution_count": 1,
   "id": "6cf84f7a-223e-443e-b6cd-ce9f118a6350",
   "metadata": {},
   "outputs": [],
   "source": [
    "import csv\n",
    "import pandas as pd"
   ]
  },
  {
   "cell_type": "code",
   "execution_count": 2,
   "id": "f437b068-76bf-473c-a64c-0f660230067c",
   "metadata": {},
   "outputs": [],
   "source": [
    "# Specifiy CSV file path\n",
    "file_path = r'C:\\Users\\kolgi\\OneDrive - Western Governors University\\d210\\NCHS Death.csv'\n",
    "\n",
    "# Open the CSV file and read it using DictReader\n",
    "with open(file_path, 'r') as csvfile:\n",
    "    csvreader = csv.DictReader(csvfile)\n",
    "\n",
    "# Read the CSV file into a pandas DataFrame then open head\n",
    "df = pd.read_csv(file_path)"
   ]
  },
  {
   "cell_type": "code",
   "execution_count": 3,
   "id": "11abc950-425c-48fb-ac1a-64330be06023",
   "metadata": {},
   "outputs": [
    {
     "name": "stdout",
     "output_type": "stream",
     "text": [
      "<class 'pandas.core.frame.DataFrame'>\n",
      "RangeIndex: 10868 entries, 0 to 10867\n",
      "Data columns (total 6 columns):\n",
      " #   Column                   Non-Null Count  Dtype  \n",
      "---  ------                   --------------  -----  \n",
      " 0   Year                     10868 non-null  int64  \n",
      " 1   113 Cause Name           10868 non-null  object \n",
      " 2   Cause Name               10868 non-null  object \n",
      " 3   State                    10868 non-null  object \n",
      " 4   Deaths                   10868 non-null  int64  \n",
      " 5   Age-adjusted Death Rate  10868 non-null  float64\n",
      "dtypes: float64(1), int64(2), object(3)\n",
      "memory usage: 509.6+ KB\n"
     ]
    }
   ],
   "source": [
    "df.info()"
   ]
  },
  {
   "cell_type": "code",
   "execution_count": 4,
   "id": "5a061173-88db-4eba-afbc-7158a8be3625",
   "metadata": {},
   "outputs": [
    {
     "data": {
      "text/html": [
       "<div>\n",
       "<style scoped>\n",
       "    .dataframe tbody tr th:only-of-type {\n",
       "        vertical-align: middle;\n",
       "    }\n",
       "\n",
       "    .dataframe tbody tr th {\n",
       "        vertical-align: top;\n",
       "    }\n",
       "\n",
       "    .dataframe thead th {\n",
       "        text-align: right;\n",
       "    }\n",
       "</style>\n",
       "<table border=\"1\" class=\"dataframe\">\n",
       "  <thead>\n",
       "    <tr style=\"text-align: right;\">\n",
       "      <th></th>\n",
       "      <th>Year</th>\n",
       "      <th>113 Cause Name</th>\n",
       "      <th>Cause Name</th>\n",
       "      <th>State</th>\n",
       "      <th>Deaths</th>\n",
       "      <th>Age-adjusted Death Rate</th>\n",
       "    </tr>\n",
       "  </thead>\n",
       "  <tbody>\n",
       "    <tr>\n",
       "      <th>0</th>\n",
       "      <td>2017</td>\n",
       "      <td>Accidents (unintentional injuries) (V01-X59,Y8...</td>\n",
       "      <td>Unintentional injuries</td>\n",
       "      <td>United States</td>\n",
       "      <td>169936</td>\n",
       "      <td>49.4</td>\n",
       "    </tr>\n",
       "    <tr>\n",
       "      <th>1</th>\n",
       "      <td>2017</td>\n",
       "      <td>Accidents (unintentional injuries) (V01-X59,Y8...</td>\n",
       "      <td>Unintentional injuries</td>\n",
       "      <td>Alabama</td>\n",
       "      <td>2703</td>\n",
       "      <td>53.8</td>\n",
       "    </tr>\n",
       "    <tr>\n",
       "      <th>2</th>\n",
       "      <td>2017</td>\n",
       "      <td>Accidents (unintentional injuries) (V01-X59,Y8...</td>\n",
       "      <td>Unintentional injuries</td>\n",
       "      <td>Alaska</td>\n",
       "      <td>436</td>\n",
       "      <td>63.7</td>\n",
       "    </tr>\n",
       "    <tr>\n",
       "      <th>3</th>\n",
       "      <td>2017</td>\n",
       "      <td>Accidents (unintentional injuries) (V01-X59,Y8...</td>\n",
       "      <td>Unintentional injuries</td>\n",
       "      <td>Arizona</td>\n",
       "      <td>4184</td>\n",
       "      <td>56.2</td>\n",
       "    </tr>\n",
       "    <tr>\n",
       "      <th>4</th>\n",
       "      <td>2017</td>\n",
       "      <td>Accidents (unintentional injuries) (V01-X59,Y8...</td>\n",
       "      <td>Unintentional injuries</td>\n",
       "      <td>Arkansas</td>\n",
       "      <td>1625</td>\n",
       "      <td>51.8</td>\n",
       "    </tr>\n",
       "  </tbody>\n",
       "</table>\n",
       "</div>"
      ],
      "text/plain": [
       "   Year                                     113 Cause Name  \\\n",
       "0  2017  Accidents (unintentional injuries) (V01-X59,Y8...   \n",
       "1  2017  Accidents (unintentional injuries) (V01-X59,Y8...   \n",
       "2  2017  Accidents (unintentional injuries) (V01-X59,Y8...   \n",
       "3  2017  Accidents (unintentional injuries) (V01-X59,Y8...   \n",
       "4  2017  Accidents (unintentional injuries) (V01-X59,Y8...   \n",
       "\n",
       "               Cause Name          State  Deaths  Age-adjusted Death Rate  \n",
       "0  Unintentional injuries  United States  169936                     49.4  \n",
       "1  Unintentional injuries        Alabama    2703                     53.8  \n",
       "2  Unintentional injuries         Alaska     436                     63.7  \n",
       "3  Unintentional injuries        Arizona    4184                     56.2  \n",
       "4  Unintentional injuries       Arkansas    1625                     51.8  "
      ]
     },
     "execution_count": 4,
     "metadata": {},
     "output_type": "execute_result"
    }
   ],
   "source": [
    "df.head()"
   ]
  },
  {
   "cell_type": "code",
   "execution_count": 5,
   "id": "4d838cdb-eacf-4c7a-8293-4d17b76b3a87",
   "metadata": {},
   "outputs": [
    {
     "name": "stdout",
     "output_type": "stream",
     "text": [
      "Columns with missing values:\n",
      "Series([], dtype: int64)\n"
     ]
    }
   ],
   "source": [
    "# Find missing values\n",
    "# Check for missing values in each column\n",
    "missing_values = df.isnull().sum()\n",
    "\n",
    "# Display columns with missing values\n",
    "print(\"Columns with missing values:\")\n",
    "print(missing_values[missing_values > 0])"
   ]
  },
  {
   "cell_type": "code",
   "execution_count": 6,
   "id": "6d68458f-0151-4d05-9f1e-8ce29a536ea8",
   "metadata": {},
   "outputs": [
    {
     "name": "stdout",
     "output_type": "stream",
     "text": [
      "['Accidents (unintentional injuries) (V01-X59,Y85-Y86)' 'All Causes'\n",
      " \"Alzheimer's disease (G30)\" 'Cerebrovascular diseases (I60-I69)'\n",
      " 'Chronic lower respiratory diseases (J40-J47)'\n",
      " 'Diabetes mellitus (E10-E14)'\n",
      " 'Diseases of heart (I00-I09,I11,I13,I20-I51)'\n",
      " 'Influenza and pneumonia (J09-J18)'\n",
      " 'Intentional self-harm (suicide) (*U03,X60-X84,Y87.0)'\n",
      " 'Malignant neoplasms (C00-C97)'\n",
      " 'Nephritis, nephrotic syndrome and nephrosis (N00-N07,N17-N19,N25-N27)']\n"
     ]
    }
   ],
   "source": [
    "unique_cause_names = df['113 Cause Name'].unique()\n",
    "print(unique_cause_names)"
   ]
  },
  {
   "cell_type": "code",
   "execution_count": 7,
   "id": "e9f34910-1c2f-438f-9b8e-827729abf26a",
   "metadata": {},
   "outputs": [
    {
     "name": "stdout",
     "output_type": "stream",
     "text": [
      "['Accidents' 'All Causes' \"Alzheimer's disease\" 'Cerebrovascular diseases'\n",
      " 'Chronic lower respiratory diseases' 'Diabetes mellitus'\n",
      " 'Diseases of heart' 'Influenza and pneumonia' 'Intentional self-harm'\n",
      " 'Malignant neoplasms' 'Nephritis, nephrotic syndrome and nephrosis']\n"
     ]
    }
   ],
   "source": [
    "import re\n",
    "\n",
    "# Function to remove parentheses and numbers inside them\n",
    "def remove_parentheses(text):\n",
    "    # Use regular expression to remove parentheses and numbers inside them\n",
    "    return re.sub(r'\\([^()]*\\)', '', text).strip()\n",
    "\n",
    "# Apply the function to remove parentheses and numbers inside them from each value in the column\n",
    "df['113 Cause Name'] = df['113 Cause Name'].apply(remove_parentheses)\n",
    "\n",
    "# Print unique values in the modified \"113 Cause Name\" column\n",
    "unique_113_cause_names = df['113 Cause Name'].unique()\n",
    "print(unique_113_cause_names)\n"
   ]
  },
  {
   "cell_type": "code",
   "execution_count": 8,
   "id": "09caa43f-dfb0-4ee9-988e-afe5efbe18ba",
   "metadata": {},
   "outputs": [
    {
     "name": "stdout",
     "output_type": "stream",
     "text": [
      "       Year                               113 Cause Name  \\\n",
      "0      2017                                    Accidents   \n",
      "1      2017                                    Accidents   \n",
      "2      2017                                    Accidents   \n",
      "3      2017                                    Accidents   \n",
      "4      2017                                    Accidents   \n",
      "...     ...                                          ...   \n",
      "10863  1999  Nephritis, nephrotic syndrome and nephrosis   \n",
      "10864  1999  Nephritis, nephrotic syndrome and nephrosis   \n",
      "10865  1999  Nephritis, nephrotic syndrome and nephrosis   \n",
      "10866  1999  Nephritis, nephrotic syndrome and nephrosis   \n",
      "10867  1999  Nephritis, nephrotic syndrome and nephrosis   \n",
      "\n",
      "                   Cause Name          State  Deaths  Age-adjusted Death Rate  \\\n",
      "0      Unintentional injuries  United States  169936                     49.4   \n",
      "1      Unintentional injuries        Alabama    2703                     53.8   \n",
      "2      Unintentional injuries         Alaska     436                     63.7   \n",
      "3      Unintentional injuries        Arizona    4184                     56.2   \n",
      "4      Unintentional injuries       Arkansas    1625                     51.8   \n",
      "...                       ...            ...     ...                      ...   \n",
      "10863          Kidney disease       Virginia    1035                     16.9   \n",
      "10864          Kidney disease     Washington     278                      5.2   \n",
      "10865          Kidney disease  West Virginia     345                     16.4   \n",
      "10866          Kidney disease      Wisconsin     677                     11.9   \n",
      "10867          Kidney disease        Wyoming      30                      6.8   \n",
      "\n",
      "      State_Initials  \n",
      "0                NaN  \n",
      "1                 AL  \n",
      "2                 AK  \n",
      "3                 AZ  \n",
      "4                 AR  \n",
      "...              ...  \n",
      "10863             VA  \n",
      "10864             WA  \n",
      "10865             WV  \n",
      "10866             WI  \n",
      "10867             WY  \n",
      "\n",
      "[10868 rows x 7 columns]\n"
     ]
    }
   ],
   "source": [
    "# Define a dictionary mapping full state names to state initials\n",
    "state_initials = {\n",
    "    'Alabama': 'AL',\n",
    "    'Alaska': 'AK',\n",
    "    'Arizona': 'AZ',\n",
    "    'Arkansas': 'AR',\n",
    "    'California': 'CA',\n",
    "    'Colorado': 'CO',\n",
    "    'Connecticut': 'CT',\n",
    "    'Delaware': 'DE',\n",
    "    'Florida': 'FL',\n",
    "    'Georgia': 'GA',\n",
    "    'Hawaii': 'HI',\n",
    "    'Idaho': 'ID',\n",
    "    'Illinois': 'IL',\n",
    "    'Indiana': 'IN',\n",
    "    'Iowa': 'IA',\n",
    "    'Kansas': 'KS',\n",
    "    'Kentucky': 'KY',\n",
    "    'Louisiana': 'LA',\n",
    "    'Maine': 'ME',\n",
    "    'Maryland': 'MD',\n",
    "    'Massachusetts': 'MA',\n",
    "    'Michigan': 'MI',\n",
    "    'Minnesota': 'MN',\n",
    "    'Mississippi': 'MS',\n",
    "    'Missouri': 'MO',\n",
    "    'Montana': 'MT',\n",
    "    'Nebraska': 'NE',\n",
    "    'Nevada': 'NV',\n",
    "    'New Hampshire': 'NH',\n",
    "    'New Jersey': 'NJ',\n",
    "    'New Mexico': 'NM',\n",
    "    'New York': 'NY',\n",
    "    'North Carolina': 'NC',\n",
    "    'North Dakota': 'ND',\n",
    "    'Ohio': 'OH',\n",
    "    'Oklahoma': 'OK',\n",
    "    'Oregon': 'OR',\n",
    "    'Pennsylvania': 'PA',\n",
    "    'Rhode Island': 'RI',\n",
    "    'South Carolina': 'SC',\n",
    "    'South Dakota': 'SD',\n",
    "    'Tennessee': 'TN',\n",
    "    'Texas': 'TX',\n",
    "    'Utah': 'UT',\n",
    "    'Vermont': 'VT',\n",
    "    'Virginia': 'VA',\n",
    "    'Washington': 'WA',\n",
    "    'West Virginia': 'WV',\n",
    "    'Wisconsin': 'WI',\n",
    "    'Wyoming': 'WY', \n",
    "    'District of Columbia': 'DC'\n",
    "}\n",
    "\n",
    "# Add a new column 'State_Initials' to filtered_deaths DataFrame based on state initials\n",
    "df['State_Initials'] = df['State'].map(state_initials)\n",
    "\n",
    "# Display the DataFrame with the new column\n",
    "print(df)"
   ]
  },
  {
   "cell_type": "code",
   "execution_count": 9,
   "id": "f3af563a-1416-4078-9d3e-798e1ad23dcb",
   "metadata": {},
   "outputs": [
    {
     "name": "stdout",
     "output_type": "stream",
     "text": [
      "['United States' 'Alabama' 'Alaska' 'Arizona' 'Arkansas' 'California'\n",
      " 'Colorado' 'Connecticut' 'Delaware' 'District of Columbia' 'Florida'\n",
      " 'Georgia' 'Hawaii' 'Idaho' 'Illinois' 'Indiana' 'Iowa' 'Kansas'\n",
      " 'Kentucky' 'Louisiana' 'Maine' 'Maryland' 'Massachusetts' 'Michigan'\n",
      " 'Minnesota' 'Mississippi' 'Missouri' 'Montana' 'Nebraska' 'Nevada'\n",
      " 'New Hampshire' 'New Jersey' 'New Mexico' 'New York' 'North Carolina'\n",
      " 'North Dakota' 'Ohio' 'Oklahoma' 'Oregon' 'Pennsylvania' 'Rhode Island'\n",
      " 'South Carolina' 'South Dakota' 'Tennessee' 'Texas' 'Utah' 'Vermont'\n",
      " 'Virginia' 'Washington' 'West Virginia' 'Wisconsin' 'Wyoming']\n"
     ]
    }
   ],
   "source": [
    "unique_cause_names = df['State'].unique()\n",
    "print(unique_cause_names)"
   ]
  },
  {
   "cell_type": "code",
   "execution_count": 10,
   "id": "a6c5a292-9ebf-498b-a193-54734ef90870",
   "metadata": {},
   "outputs": [
    {
     "name": "stdout",
     "output_type": "stream",
     "text": [
      "       Year                               113 Cause Name  \\\n",
      "1      2017                                    Accidents   \n",
      "2      2017                                    Accidents   \n",
      "3      2017                                    Accidents   \n",
      "4      2017                                    Accidents   \n",
      "5      2017                                    Accidents   \n",
      "...     ...                                          ...   \n",
      "10863  1999  Nephritis, nephrotic syndrome and nephrosis   \n",
      "10864  1999  Nephritis, nephrotic syndrome and nephrosis   \n",
      "10865  1999  Nephritis, nephrotic syndrome and nephrosis   \n",
      "10866  1999  Nephritis, nephrotic syndrome and nephrosis   \n",
      "10867  1999  Nephritis, nephrotic syndrome and nephrosis   \n",
      "\n",
      "                   Cause Name          State  Deaths  Age-adjusted Death Rate  \\\n",
      "1      Unintentional injuries        Alabama    2703                     53.8   \n",
      "2      Unintentional injuries         Alaska     436                     63.7   \n",
      "3      Unintentional injuries        Arizona    4184                     56.2   \n",
      "4      Unintentional injuries       Arkansas    1625                     51.8   \n",
      "5      Unintentional injuries     California   13840                     33.2   \n",
      "...                       ...            ...     ...                      ...   \n",
      "10863          Kidney disease       Virginia    1035                     16.9   \n",
      "10864          Kidney disease     Washington     278                      5.2   \n",
      "10865          Kidney disease  West Virginia     345                     16.4   \n",
      "10866          Kidney disease      Wisconsin     677                     11.9   \n",
      "10867          Kidney disease        Wyoming      30                      6.8   \n",
      "\n",
      "      State_Initials  \n",
      "1                 AL  \n",
      "2                 AK  \n",
      "3                 AZ  \n",
      "4                 AR  \n",
      "5                 CA  \n",
      "...              ...  \n",
      "10863             VA  \n",
      "10864             WA  \n",
      "10865             WV  \n",
      "10866             WI  \n",
      "10867             WY  \n",
      "\n",
      "[10659 rows x 7 columns]\n"
     ]
    }
   ],
   "source": [
    "# Remove rows where the 'State' column contains 'United States'\n",
    "df = df[df['State'] != 'United States']\n",
    "\n",
    "# Display the DataFrame after removing rows\n",
    "print(df)"
   ]
  },
  {
   "cell_type": "code",
   "execution_count": 11,
   "id": "87c1ca5a-eaef-4ec8-8df1-368ed0b39e07",
   "metadata": {},
   "outputs": [
    {
     "name": "stdout",
     "output_type": "stream",
     "text": [
      "['Alabama' 'Alaska' 'Arizona' 'Arkansas' 'California' 'Colorado'\n",
      " 'Connecticut' 'Delaware' 'District of Columbia' 'Florida' 'Georgia'\n",
      " 'Hawaii' 'Idaho' 'Illinois' 'Indiana' 'Iowa' 'Kansas' 'Kentucky'\n",
      " 'Louisiana' 'Maine' 'Maryland' 'Massachusetts' 'Michigan' 'Minnesota'\n",
      " 'Mississippi' 'Missouri' 'Montana' 'Nebraska' 'Nevada' 'New Hampshire'\n",
      " 'New Jersey' 'New Mexico' 'New York' 'North Carolina' 'North Dakota'\n",
      " 'Ohio' 'Oklahoma' 'Oregon' 'Pennsylvania' 'Rhode Island' 'South Carolina'\n",
      " 'South Dakota' 'Tennessee' 'Texas' 'Utah' 'Vermont' 'Virginia'\n",
      " 'Washington' 'West Virginia' 'Wisconsin' 'Wyoming']\n"
     ]
    }
   ],
   "source": [
    "unique_cause_names = df['State'].unique()\n",
    "print(unique_cause_names)"
   ]
  },
  {
   "cell_type": "code",
   "execution_count": 12,
   "id": "1e451e06-4ab0-416a-b9f2-c30c44209f2f",
   "metadata": {},
   "outputs": [],
   "source": [
    "# Save the filtered DataFrame to a CSV file\n",
    "df.to_csv('deaths_clean.csv', index=False)"
   ]
  },
  {
   "cell_type": "code",
   "execution_count": 13,
   "id": "4f45fcda-6dc7-4692-b871-fe920e22807e",
   "metadata": {},
   "outputs": [
    {
     "name": "stdout",
     "output_type": "stream",
     "text": [
      "<class 'pandas.core.frame.DataFrame'>\n",
      "Index: 10659 entries, 1 to 10867\n",
      "Data columns (total 7 columns):\n",
      " #   Column                   Non-Null Count  Dtype  \n",
      "---  ------                   --------------  -----  \n",
      " 0   Year                     10659 non-null  int64  \n",
      " 1   113 Cause Name           10659 non-null  object \n",
      " 2   Cause Name               10659 non-null  object \n",
      " 3   State                    10659 non-null  object \n",
      " 4   Deaths                   10659 non-null  int64  \n",
      " 5   Age-adjusted Death Rate  10659 non-null  float64\n",
      " 6   State_Initials           10659 non-null  object \n",
      "dtypes: float64(1), int64(2), object(4)\n",
      "memory usage: 666.2+ KB\n"
     ]
    }
   ],
   "source": [
    "df.info()"
   ]
  },
  {
   "cell_type": "code",
   "execution_count": null,
   "id": "515658ed-9a6a-4b21-a7a0-6dd7ed390159",
   "metadata": {},
   "outputs": [],
   "source": []
  },
  {
   "cell_type": "code",
   "execution_count": null,
   "id": "72fc2f0d-98a0-4536-a040-6891c11a68ca",
   "metadata": {},
   "outputs": [],
   "source": []
  }
 ],
 "metadata": {
  "kernelspec": {
   "display_name": "Python 3 (ipykernel)",
   "language": "python",
   "name": "python3"
  },
  "language_info": {
   "codemirror_mode": {
    "name": "ipython",
    "version": 3
   },
   "file_extension": ".py",
   "mimetype": "text/x-python",
   "name": "python",
   "nbconvert_exporter": "python",
   "pygments_lexer": "ipython3",
   "version": "3.11.5"
  }
 },
 "nbformat": 4,
 "nbformat_minor": 5
}
